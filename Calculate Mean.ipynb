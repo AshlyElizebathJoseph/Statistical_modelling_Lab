{
 "cells": [
  {
   "cell_type": "code",
   "execution_count": null,
   "id": "d0de4e1b",
   "metadata": {},
   "outputs": [],
   "source": [
    "def calculate_mean(numbers):\n",
    "    if not numbers:\n",
    "        print(\"The list is empty. Cannot calculate mean.\")\n",
    "        return None\n",
    "    \n",
    "    total = sum(numbers)\n",
    "    mean = total / len(numbers)\n",
    "    return mean\n",
    "\n",
    "# Example usage:\n",
    "def main():\n",
    "    input_numbers = input(\"Enter numbers separated by space: \").split()\n",
    "\n",
    "    try:\n",
    "        numbers = [float(x) for x in input_numbers]\n",
    "        mean = calculate_mean(numbers)\n",
    "        if mean is not None:\n",
    "            print(\"Mean:\", mean)\n",
    "    except ValueError:\n",
    "        print(\"Invalid input. Please enter numbers only.\")\n",
    "\n",
    "if __name__ == \"__main__\":\n",
    "    main()\n"
   ]
  },
  {
   "cell_type": "code",
   "execution_count": null,
   "id": "262b4257",
   "metadata": {},
   "outputs": [],
   "source": []
  }
 ],
 "metadata": {
  "kernelspec": {
   "display_name": "Python 3 (ipykernel)",
   "language": "python",
   "name": "python3"
  },
  "language_info": {
   "codemirror_mode": {
    "name": "ipython",
    "version": 3
   },
   "file_extension": ".py",
   "mimetype": "text/x-python",
   "name": "python",
   "nbconvert_exporter": "python",
   "pygments_lexer": "ipython3",
   "version": "3.10.5"
  }
 },
 "nbformat": 4,
 "nbformat_minor": 5
}
